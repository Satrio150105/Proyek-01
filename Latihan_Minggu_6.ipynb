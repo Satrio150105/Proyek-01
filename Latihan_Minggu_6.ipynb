{
  "nbformat": 4,
  "nbformat_minor": 0,
  "metadata": {
    "colab": {
      "provenance": [],
      "authorship_tag": "ABX9TyMi+w3F5A9wHkeUYfp5UtAm",
      "include_colab_link": true
    },
    "kernelspec": {
      "name": "python3",
      "display_name": "Python 3"
    },
    "language_info": {
      "name": "python"
    }
  },
  "cells": [
    {
      "cell_type": "markdown",
      "metadata": {
        "id": "view-in-github",
        "colab_type": "text"
      },
      "source": [
        "<a href=\"https://colab.research.google.com/github/Satrio150105/Proyek-01/blob/main/Latihan_Minggu_6.ipynb\" target=\"_parent\"><img src=\"https://colab.research.google.com/assets/colab-badge.svg\" alt=\"Open In Colab\"/></a>"
      ]
    },
    {
      "cell_type": "code",
      "execution_count": null,
      "metadata": {
        "colab": {
          "base_uri": "https://localhost:8080/"
        },
        "id": "6gnKvTE8FcsG",
        "outputId": "cd62ecb7-f172-43e1-da4c-5583ca3ce27d"
      },
      "outputs": [
        {
          "output_type": "execute_result",
          "data": {
            "text/plain": [
              "range(0, 3)"
            ]
          },
          "metadata": {},
          "execution_count": 1
        }
      ],
      "source": [
        "range(3)"
      ]
    },
    {
      "cell_type": "code",
      "source": [
        "dates = [1982,1980,1973]\n",
        "N = len(dates)\n",
        "\n",
        "for i in range(0,3):\n",
        "    print(dates[i])"
      ],
      "metadata": {
        "colab": {
          "base_uri": "https://localhost:8080/"
        },
        "id": "AYtZ3KABFkEM",
        "outputId": "04315ca5-1013-4498-848d-903bac47b4b8"
      },
      "execution_count": null,
      "outputs": [
        {
          "output_type": "stream",
          "name": "stdout",
          "text": [
            "1982\n",
            "1980\n",
            "1973\n"
          ]
        }
      ]
    },
    {
      "cell_type": "code",
      "source": [
        "for i in range(-2, 8):\n",
        "    print(i)"
      ],
      "metadata": {
        "colab": {
          "base_uri": "https://localhost:8080/"
        },
        "id": "_l7ZIhTLFozT",
        "outputId": "ed8ac510-118c-40b8-a877-04913ec2bae4"
      },
      "execution_count": null,
      "outputs": [
        {
          "output_type": "stream",
          "name": "stdout",
          "text": [
            "-2\n",
            "-1\n",
            "0\n",
            "1\n",
            "2\n",
            "3\n",
            "4\n",
            "5\n",
            "6\n",
            "7\n"
          ]
        }
      ]
    },
    {
      "cell_type": "code",
      "source": [
        "for year in dates:\n",
        "    print(year)"
      ],
      "metadata": {
        "colab": {
          "base_uri": "https://localhost:8080/"
        },
        "id": "k3Q2c02DGDKM",
        "outputId": "66fcbc5f-a217-4330-fcbe-4fb25a0948c0"
      },
      "execution_count": null,
      "outputs": [
        {
          "output_type": "stream",
          "name": "stdout",
          "text": [
            "1982\n",
            "1980\n",
            "1973\n"
          ]
        }
      ]
    },
    {
      "cell_type": "code",
      "source": [
        "squares = ['red', 'yellow', 'green', 'purple', 'blue']\n",
        "\n",
        "for i in range(0, 5):\n",
        "    print(\"Before square \", i, 'is',  squares[i])\n",
        "    squares[i] = 'weight'\n",
        "    print(\"After square \", i, 'is',  squares[i])"
      ],
      "metadata": {
        "colab": {
          "base_uri": "https://localhost:8080/"
        },
        "id": "TNauZUZXGQbs",
        "outputId": "c4248456-baf8-4094-d2c9-3a8c2e87a4ad"
      },
      "execution_count": null,
      "outputs": [
        {
          "output_type": "stream",
          "name": "stdout",
          "text": [
            "Before square  0 is red\n",
            "After square  0 is weight\n",
            "Before square  1 is yellow\n",
            "After square  1 is weight\n",
            "Before square  2 is green\n",
            "After square  2 is weight\n",
            "Before square  3 is purple\n",
            "After square  3 is weight\n",
            "Before square  4 is blue\n",
            "After square  4 is weight\n"
          ]
        }
      ]
    },
    {
      "cell_type": "code",
      "source": [
        "squares=['red', 'yellow', 'green', 'purple', 'blue']\n",
        "\n",
        "for i, square in enumerate(squares):\n",
        "    print(i, square)"
      ],
      "metadata": {
        "colab": {
          "base_uri": "https://localhost:8080/"
        },
        "id": "I3u8zcZoGbdD",
        "outputId": "69c09795-e63a-48d9-fa7b-8c06e9be0e52"
      },
      "execution_count": null,
      "outputs": [
        {
          "output_type": "stream",
          "name": "stdout",
          "text": [
            "0 red\n",
            "1 yellow\n",
            "2 green\n",
            "3 purple\n",
            "4 blue\n"
          ]
        }
      ]
    },
    {
      "cell_type": "code",
      "source": [
        "dates = [1982, 1980, 1973, 2000]\n",
        "\n",
        "i = 0\n",
        "year = 0\n",
        "\n",
        "while(year == 1982):\n",
        "    year = dates[i]\n",
        "    i = i + 1\n",
        "    print(year)\n",
        "\n",
        "print(\"It took \", i ,\"repetitions to get out of loop.\")"
      ],
      "metadata": {
        "colab": {
          "base_uri": "https://localhost:8080/"
        },
        "id": "8S_tJM5kGrIc",
        "outputId": "a62bf23a-d294-4810-dadc-5688ec09bc69"
      },
      "execution_count": null,
      "outputs": [
        {
          "output_type": "stream",
          "name": "stdout",
          "text": [
            "It took  0 repetitions to get out of loop.\n"
          ]
        }
      ]
    },
    {
      "cell_type": "code",
      "source": [
        "string = \"\"\n",
        "\n",
        "x = int(input(\"Masukkan angka: \"))\n",
        "bar = x\n",
        "\n",
        "while bar >= 0:\n",
        "\tkol = bar\n",
        "\n",
        "\twhile kol > 0:\n",
        "\t\tstring = string + \"   \"\n",
        "\t\tkol = kol - 1\n",
        "\tkiri = 1\n",
        "\n",
        "\twhile kiri < (x - (bar-1)):\n",
        "\t\tstring = string + \" * \"\n",
        "\t\tkiri = kiri + 1\n",
        "\tkanan = 1\n",
        "\n",
        "\twhile kanan < kiri -1:\n",
        "\t\tstring = string + \" * \"\n",
        "\t\tkanan = kanan + 1\n",
        "\n",
        "\tstring = string + \"\\n\\n\"\n",
        "\tbar = bar - 1\n",
        "\n",
        "print (string)"
      ],
      "metadata": {
        "colab": {
          "base_uri": "https://localhost:8080/"
        },
        "id": "0GE2JMjBG47b",
        "outputId": "9fa71b8a-3e54-4633-de65-ede975463ce8"
      },
      "execution_count": null,
      "outputs": [
        {
          "output_type": "stream",
          "name": "stdout",
          "text": [
            "Masukkan angka: 8\n",
            "                        \n",
            "\n",
            "                      * \n",
            "\n",
            "                   *  *  * \n",
            "\n",
            "                *  *  *  *  * \n",
            "\n",
            "             *  *  *  *  *  *  * \n",
            "\n",
            "          *  *  *  *  *  *  *  *  * \n",
            "\n",
            "       *  *  *  *  *  *  *  *  *  *  * \n",
            "\n",
            "    *  *  *  *  *  *  *  *  *  *  *  *  * \n",
            "\n",
            " *  *  *  *  *  *  *  *  *  *  *  *  *  *  * \n",
            "\n",
            "\n"
          ]
        }
      ]
    },
    {
      "cell_type": "code",
      "source": [
        "\n",
        "n = int(input(\"Masukkan angka: \"))\n",
        "\n",
        "for i in range(n):\n",
        "    print(' '*(n-i), end='')\n",
        "\n",
        "    coef = 1\n",
        "    for j in range(0, i + 1):\n",
        "        print(coef, end=' ')\n",
        "        coef = coef * (i - j) // (j + 1)\n",
        "    print()\n"
      ],
      "metadata": {
        "colab": {
          "base_uri": "https://localhost:8080/"
        },
        "id": "h9SfHCgsIEf1",
        "outputId": "63188cde-d466-401a-c4a8-4e1264b2bf12"
      },
      "execution_count": null,
      "outputs": [
        {
          "output_type": "stream",
          "name": "stdout",
          "text": [
            "Masukkan angka: 8\n",
            "        1 \n",
            "       1 1 \n",
            "      1 2 1 \n",
            "     1 3 3 1 \n",
            "    1 4 6 4 1 \n",
            "   1 5 10 10 5 1 \n",
            "  1 6 15 20 15 6 1 \n",
            " 1 7 21 35 35 21 7 1 \n"
          ]
        }
      ]
    },
    {
      "cell_type": "code",
      "source": [
        "n = int(input(\"Masukkan angka: \"))\n",
        "\n",
        "for i in range(n):\n",
        "    print(' '*(n-i), end='')\n",
        "\n",
        "    coef = 1\n",
        "    row_sum = 0\n",
        "    for j in range(0, i + 1):\n",
        "        print(coef, end=' ')\n",
        "        row_sum += coef\n",
        "        coef = coef * (i - j) // (j + 1)\n",
        "    print(f\"Jumlah: {row_sum}\")\n"
      ],
      "metadata": {
        "colab": {
          "base_uri": "https://localhost:8080/"
        },
        "id": "70jnX2oEKJBN",
        "outputId": "bcfbfcd8-fc37-4033-86eb-6a49b0e3897a"
      },
      "execution_count": null,
      "outputs": [
        {
          "output_type": "stream",
          "name": "stdout",
          "text": [
            "Masukkan angka: 8\n",
            "        1 Jumlah: 1\n",
            "       1 1 Jumlah: 2\n",
            "      1 2 1 Jumlah: 4\n",
            "     1 3 3 1 Jumlah: 8\n",
            "    1 4 6 4 1 Jumlah: 16\n",
            "   1 5 10 10 5 1 Jumlah: 32\n",
            "  1 6 15 20 15 6 1 Jumlah: 64\n",
            " 1 7 21 35 35 21 7 1 Jumlah: 128\n"
          ]
        }
      ]
    },
    {
      "cell_type": "code",
      "source": [],
      "metadata": {
        "id": "rlte_SwhP6lV"
      },
      "execution_count": null,
      "outputs": []
    }
  ]
}